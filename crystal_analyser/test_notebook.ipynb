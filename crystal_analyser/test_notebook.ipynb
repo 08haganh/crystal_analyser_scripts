{
 "cells": [
  {
   "cell_type": "code",
   "execution_count": 1,
   "metadata": {},
   "outputs": [],
   "source": [
    "# Jupyter notebook for testing some functions in crystal analyser"
   ]
  },
  {
   "cell_type": "code",
   "execution_count": 2,
   "metadata": {},
   "outputs": [],
   "source": [
    "import numpy as np\n",
    "import numpy.linalg as la"
   ]
  },
  {
   "cell_type": "code",
   "execution_count": 3,
   "metadata": {},
   "outputs": [],
   "source": [
    "from Mol2Reader import Mol2Reader"
   ]
  },
  {
   "cell_type": "code",
   "execution_count": 4,
   "metadata": {},
   "outputs": [
    {
     "name": "stdout",
     "output_type": "stream",
     "text": [
      "[-20.27429433  -3.993734    -2.76886548]\n",
      "[[-20.2367  -3.3188  -5.6796]]\n",
      "[-0.02791757 -0.01314362  0.00712732]\n",
      "[[-19.9037  -3.1676  -4.2707]]\n",
      "[ 0.00665952  0.00313531 -0.00170017]\n",
      "[[-19.2261  -4.1905  -3.5971]]\n",
      "[ 0.02534758  0.01193367 -0.0064712 ]\n",
      "[[-18.9507  -3.992   -2.2504]]\n",
      "[ 0.04480883  0.02109605 -0.01143963]\n",
      "[[-18.2409  -5.0288  -1.4094]]\n",
      "[ 0.0502231   0.02364509 -0.01282189]\n",
      "[[-19.9539  -1.9289  -2.2405]]\n",
      "[ 0.01806274  0.00850396 -0.00461139]\n",
      "[[-20.279   -2.0158  -3.5846]]\n",
      "[ 2.93736345e-04  1.38291396e-04 -7.49904902e-05]\n",
      "[[-19.1582  -5.6925  -0.6358]]\n",
      "[-1.05891216 -0.49853701  0.27033884]\n",
      "[[-17.6745  -5.9809  -2.2182]]\n",
      "[ 0.30249849  0.14241662 -0.07722745]\n",
      "[[-18.9653  -4.9877  -4.0433]]\n",
      "[ 0.0248748   0.01171109 -0.0063505 ]\n",
      "[[-17.5451  -4.5977  -0.8347]]\n",
      "[ 0.6346372   0.2987879  -0.16202202]\n",
      "[[-20.2086  -1.1449  -1.7685]]\n",
      "[ 0.01332794  0.00627481 -0.0034026 ]\n",
      "[[-20.7426  -1.312   -4.0233]]\n",
      "[-0.01544311 -0.00727063  0.00394261]\n",
      "[[-20.5085  -3.4326  -6.7868]]\n",
      "[-0.06110802 -0.02876972  0.0156008 ]\n",
      "[[-19.2976  -2.8899  -1.5659]]\n",
      "[ 0.04264691  0.02007821 -0.0108877 ]\n"
     ]
    },
    {
     "data": {
      "text/plain": [
       "<Axes3DSubplot:>"
      ]
     },
     "execution_count": 4,
     "metadata": {},
     "output_type": "execute_result"
    }
   ],
   "source": [
    "# Testing Plane\n",
    "from Plane import Plane\n",
    "%matplotlib qt\n",
    "xugleq = Mol2Reader('../../data/CSD/mol2_supercells/YAPWAP.mol2').create_supercell()\n",
    "mol = xugleq.molecules[0]\n",
    "plane = mol.plane\n",
    "coordinates = np.vstack([x.atomic_coordinates for x in mol.atoms])\n",
    "x_min = min(coordinates[:,0])\n",
    "x_max = max(coordinates[:,0])\n",
    "y_min = min(coordinates[:,1])\n",
    "y_max = max(coordinates[:,1])\n",
    "# Test plot\n",
    "ax = plane.plot(x_min=x_min,x_max=x_max,y_min=y_min,y_max=y_max)\n",
    "ax = mol.plot(ax)\n",
    "# Test project\n",
    "for atom in mol.atoms:\n",
    "    atom.atomic_coordinates = plane.project(atom.atomic_coordinates)\n",
    "mol.plot()"
   ]
  },
  {
   "cell_type": "code",
   "execution_count": 5,
   "metadata": {},
   "outputs": [
    {
     "data": {
      "text/plain": [
       "1.5707963267948966"
      ]
     },
     "execution_count": 5,
     "metadata": {},
     "output_type": "execute_result"
    }
   ],
   "source": [
    "plane.vector_angle(plane.unit_normal())"
   ]
  },
  {
   "cell_type": "raw",
   "metadata": {},
   "source": [
    "# Testing MinimumVolumeEllipsoid\n",
    "from MinimumVolumeEllipsoid import MinimumVolumeEllipsoid\n",
    "# Load up a test structures\n",
    "%matplotlib qt\n",
    "xugleq = Mol2Reader('../../data/CSD/mol2_supercells/YAPWAP.mol2').create_supercell()\n",
    "mol = xugleq.molecules[0]\n",
    "mvee = MinimumVolumeEllipsoid(np.vstack([x.atomic_coordinates for x in mol.atoms]))\n",
    "centre, axes, rotation = mvee.get_components()\n",
    "coord_system = np.dot(axes,rotation) + centre\n",
    "ax = mol.plot()\n",
    "ax = mvee.plot_axes(ax,rotate=True)\n",
    "ax = mvee.plot(ax)"
   ]
  },
  {
   "cell_type": "code",
   "execution_count": null,
   "metadata": {},
   "outputs": [],
   "source": []
  }
 ],
 "metadata": {
  "interpreter": {
   "hash": "e7b57da29943b95f531ba636c9a30b2b350e1d311a963f9223253ba34564d19e"
  },
  "kernelspec": {
   "display_name": "Python 3 (ipykernel)",
   "language": "python",
   "name": "python3"
  },
  "language_info": {
   "codemirror_mode": {
    "name": "ipython",
    "version": 3
   },
   "file_extension": ".py",
   "mimetype": "text/x-python",
   "name": "python",
   "nbconvert_exporter": "python",
   "pygments_lexer": "ipython3",
   "version": "3.9.7"
  }
 },
 "nbformat": 4,
 "nbformat_minor": 2
}
